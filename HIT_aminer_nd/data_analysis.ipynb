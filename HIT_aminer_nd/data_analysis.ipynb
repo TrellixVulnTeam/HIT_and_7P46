{
 "cells": [
  {
   "cell_type": "code",
   "execution_count": 1,
   "metadata": {
    "ExecuteTime": {
     "end_time": "2019-10-15T02:39:08.776663Z",
     "start_time": "2019-10-15T02:39:07.908977Z"
    }
   },
   "outputs": [],
   "source": [
    "import codecs\n",
    "import pandas as pd\n",
    "import numpy as np\n",
    "import json"
   ]
  },
  {
   "cell_type": "code",
   "execution_count": 2,
   "metadata": {
    "ExecuteTime": {
     "end_time": "2019-10-15T02:39:08.987059Z",
     "start_time": "2019-10-15T02:39:08.780612Z"
    }
   },
   "outputs": [],
   "source": [
    "author_dict = {}\n",
    "with codecs.open(\"data/train/train_author.json\", \"r\", \"utf-8\") as f:\n",
    "    author_dict = json.load(f)"
   ]
  },
  {
   "cell_type": "markdown",
   "metadata": {},
   "source": [
    "# 以下对数据分析可视化\n",
    "## 作者名称数（不同名字）"
   ]
  },
  {
   "cell_type": "code",
   "execution_count": 3,
   "metadata": {
    "ExecuteTime": {
     "end_time": "2019-10-15T02:39:12.977386Z",
     "start_time": "2019-10-15T02:39:12.954487Z"
    },
    "scrolled": true
   },
   "outputs": [
    {
     "data": {
      "text/plain": [
       "221"
      ]
     },
     "execution_count": 3,
     "metadata": {},
     "output_type": "execute_result"
    }
   ],
   "source": [
    "len(author_dict.keys())"
   ]
  },
  {
   "cell_type": "markdown",
   "metadata": {},
   "source": [
    "## 画出每个作者的文献数量，明显有长尾现象\n",
    "## 分析每个名称对应的文献数量"
   ]
  },
  {
   "cell_type": "code",
   "execution_count": 19,
   "metadata": {
    "ExecuteTime": {
     "end_time": "2019-10-15T02:53:49.637550Z",
     "start_time": "2019-10-15T02:53:49.603662Z"
    }
   },
   "outputs": [],
   "source": [
    "author_num = []\n",
    "each_author_num = []\n",
    "for k,v in author_dict.items():\n",
    "    num = 0\n",
    "    for k, pubs in v.items():\n",
    "        num += len(pubs)\n",
    "        each_author_num.append(len(pubs))\n",
    "    author_num.append(num)"
   ]
  },
  {
   "cell_type": "code",
   "execution_count": 23,
   "metadata": {
    "ExecuteTime": {
     "end_time": "2019-10-15T02:57:10.563200Z",
     "start_time": "2019-10-15T02:57:07.972168Z"
    }
   },
   "outputs": [
    {
     "data": {
      "image/png": "[encoded data removed]",
      "text/plain": [
       "<matplotlib.figure.Figure at 0x16e2097f0b8>"
      ]
     },
     "metadata": {
      "needs_background": "light"
     },
     "output_type": "display_data"
    },
    {
     "data": {
      "image/png": "[encoded data removed]",
      "text/plain": [
       "<matplotlib.figure.Figure at 0x16e1b195278>"
      ]
     },
     "metadata": {
      "needs_background": "light"
     },
     "output_type": "display_data"
    }
   ],
   "source": [
    "import matplotlib.pyplot as plt  \n",
    "\n",
    "author_num = sorted(author_num, reverse=True)\n",
    "plt.bar(range(len(author_num)), author_num)\n",
    "plt.title(\"each name\")\n",
    "plt.show()\n",
    "\n",
    "each_author_num = sorted(each_author_num, reverse=True)[:500]\n",
    "plt.bar(range(len(each_author_num)), each_author_num)\n",
    "plt.title(\"each author\")\n",
    "plt.show()"
   ]
  },
  {
   "cell_type": "markdown",
   "metadata": {},
   "source": []
  }
 ],
 "metadata": {
  "kernelspec": {
   "display_name": "Python 3",
   "language": "python",
   "name": "python3"
  },
  "language_info": {
   "codemirror_mode": {
    "name": "ipython",
    "version": 3
   },
   "file_extension": ".py",
   "mimetype": "text/x-python",
   "name": "python",
   "nbconvert_exporter": "python",
   "pygments_lexer": "ipython3",
   "version": "3.6.4"
  },
  "latex_envs": {
   "LaTeX_envs_menu_present": true,
   "autoclose": false,
   "autocomplete": true,
   "bibliofile": "biblio.bib",
   "cite_by": "apalike",
   "current_citInitial": 1,
   "eqLabelWithNumbers": true,
   "eqNumInitial": 1,
   "hotkeys": {
    "equation": "Ctrl-E",
    "itemize": "Ctrl-I"
   },
   "labels_anchors": false,
   "latex_user_defs": false,
   "report_style_numbering": false,
   "user_envs_cfg": false
  },
  "toc": {
   "base_numbering": 1,
   "nav_menu": {},
   "number_sections": true,
   "sideBar": true,
   "skip_h1_title": false,
   "title_cell": "Table of Contents",
   "title_sidebar": "Contents",
   "toc_cell": false,
   "toc_position": {},
   "toc_section_display": true,
   "toc_window_display": false
  }
 },
 "nbformat": 4,
 "nbformat_minor": 2
}
