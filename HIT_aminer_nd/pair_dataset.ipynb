{
 "cells": [
  {
   "cell_type": "code",
   "execution_count": 1,
   "metadata": {
    "ExecuteTime": {
     "end_time": "2019-10-22T03:31:29.673032Z",
     "start_time": "2019-10-22T03:31:28.743552Z"
    }
   },
   "outputs": [],
   "source": [
    "import codecs\n",
    "import pandas as pd\n",
    "import numpy as np\n",
    "import json"
   ]
  },
  {
   "cell_type": "code",
   "execution_count": 2,
   "metadata": {
    "ExecuteTime": {
     "end_time": "2019-10-22T03:31:30.162719Z",
     "start_time": "2019-10-22T03:31:29.679046Z"
    }
   },
   "outputs": [],
   "source": [
    "author_dict = {}\n",
    "with codecs.open(\"data/train/train_author.json\", \"r\", \"utf-8\") as f:\n",
    "    author_dict = json.load(f)\n",
    "# pub_dict = {}\n",
    "# with codecs.open(\"data/train/train_pub.json\", \"r\", \"utf-8\") as f:\n",
    "#     pub_dict = json.load(f)"
   ]
  },
  {
   "cell_type": "code",
   "execution_count": 3,
   "metadata": {
    "ExecuteTime": {
     "end_time": "2019-10-22T03:33:53.818176Z",
     "start_time": "2019-10-22T03:31:30.991504Z"
    }
   },
   "outputs": [],
   "source": [
    "import random\n",
    "result_pair = []\n",
    "# neg_samples = []\n",
    "for ad_k, ad_v in author_dict.items():\n",
    "    keys = list(ad_v.keys())\n",
    "    for k, v in ad_v.items():\n",
    "        # 构建全部正样本\n",
    "        n = len(v)\n",
    "        if n > 1:\n",
    "            for index, i in enumerate(v[0:n]):\n",
    "                for j in v[index+1:]:\n",
    "                    # 正样本\n",
    "                    tmp = []\n",
    "                    tmp.append(i)\n",
    "                    tmp.append(j)\n",
    "                    tmp.append(1)\n",
    "                    result_pair.append(tmp)\n",
    "                    # 负样本\n",
    "                    t = random.choice(keys)\n",
    "                    while t == k:\n",
    "                        t = random.choice(keys)\n",
    "                    neg = random.choice(ad_v[t])\n",
    "                    tmp = []\n",
    "                    tmp.append(i)\n",
    "                    tmp.append(neg)\n",
    "                    tmp.append(0)\n",
    "#                     while tmp in neg_samples:\n",
    "#                         t = random.choice(keys)\n",
    "#                         while t == k:\n",
    "#                             t = random.choice(keys)\n",
    "#                         neg = random.choice(ad_v[t])\n",
    "#                         tmp[1] = neg\n",
    "#                     neg_samples.append(tmp)\n",
    "                    result_pair.append(tmp)"
   ]
  },
  {
   "cell_type": "code",
   "execution_count": 5,
   "metadata": {
    "ExecuteTime": {
     "end_time": "2019-10-22T03:34:34.985110Z",
     "start_time": "2019-10-22T03:34:34.950215Z"
    }
   },
   "outputs": [
    {
     "data": {
      "text/plain": [
       "33208372"
      ]
     },
     "execution_count": 5,
     "metadata": {},
     "output_type": "execute_result"
    }
   ],
   "source": [
    "len(result_pair)"
   ]
  },
  {
   "cell_type": "code",
   "execution_count": 6,
   "metadata": {
    "ExecuteTime": {
     "end_time": "2019-10-22T03:39:02.346945Z",
     "start_time": "2019-10-22T03:38:13.844629Z"
    }
   },
   "outputs": [],
   "source": [
    "result_pair = list(set([tuple(t) for t in result_pair]))"
   ]
  },
  {
   "cell_type": "code",
   "execution_count": 7,
   "metadata": {
    "ExecuteTime": {
     "end_time": "2019-10-22T03:39:19.030339Z",
     "start_time": "2019-10-22T03:39:18.997427Z"
    }
   },
   "outputs": [
    {
     "data": {
      "text/plain": [
       "27158070"
      ]
     },
     "execution_count": 7,
     "metadata": {},
     "output_type": "execute_result"
    }
   ],
   "source": [
    "len(result_pair)"
   ]
  },
  {
   "cell_type": "code",
   "execution_count": 8,
   "metadata": {
    "ExecuteTime": {
     "end_time": "2019-10-22T03:39:50.290789Z",
     "start_time": "2019-10-22T03:39:27.101796Z"
    }
   },
   "outputs": [],
   "source": [
    "pd_pair = pd.DataFrame(result_pair)"
   ]
  },
  {
   "cell_type": "code",
   "execution_count": 9,
   "metadata": {
    "ExecuteTime": {
     "end_time": "2019-10-22T03:39:55.822484Z",
     "start_time": "2019-10-22T03:39:52.705301Z"
    }
   },
   "outputs": [
    {
     "data": {
      "text/plain": [
       "16578930"
      ]
     },
     "execution_count": 9,
     "metadata": {},
     "output_type": "execute_result"
    }
   ],
   "source": [
    "len(pd_pair[pd_pair[2]==1])"
   ]
  },
  {
   "cell_type": "code",
   "execution_count": 10,
   "metadata": {
    "ExecuteTime": {
     "end_time": "2019-10-22T03:40:00.261614Z",
     "start_time": "2019-10-22T03:39:59.083797Z"
    }
   },
   "outputs": [
    {
     "data": {
      "text/plain": [
       "10579140"
      ]
     },
     "execution_count": 10,
     "metadata": {},
     "output_type": "execute_result"
    }
   ],
   "source": [
    "len(pd_pair[pd_pair[2]==0])"
   ]
  },
  {
   "cell_type": "code",
   "execution_count": 11,
   "metadata": {
    "ExecuteTime": {
     "end_time": "2019-10-22T03:46:10.333040Z",
     "start_time": "2019-10-22T03:43:40.708236Z"
    }
   },
   "outputs": [],
   "source": [
    "pd_pair.to_csv(\"data/pair_data.csv\", index=False, encoding='utf-8')"
   ]
  },
  {
   "cell_type": "code",
   "execution_count": null,
   "metadata": {},
   "outputs": [],
   "source": []
  }
 ],
 "metadata": {
  "kernelspec": {
   "display_name": "Python 3",
   "language": "python",
   "name": "python3"
  },
  "language_info": {
   "codemirror_mode": {
    "name": "ipython",
    "version": 3
   },
   "file_extension": ".py",
   "mimetype": "text/x-python",
   "name": "python",
   "nbconvert_exporter": "python",
   "pygments_lexer": "ipython3",
   "version": "3.6.4"
  },
  "latex_envs": {
   "LaTeX_envs_menu_present": true,
   "autoclose": false,
   "autocomplete": true,
   "bibliofile": "biblio.bib",
   "cite_by": "apalike",
   "current_citInitial": 1,
   "eqLabelWithNumbers": true,
   "eqNumInitial": 1,
   "hotkeys": {
    "equation": "Ctrl-E",
    "itemize": "Ctrl-I"
   },
   "labels_anchors": false,
   "latex_user_defs": false,
   "report_style_numbering": false,
   "user_envs_cfg": false
  },
  "toc": {
   "base_numbering": 1,
   "nav_menu": {},
   "number_sections": true,
   "sideBar": true,
   "skip_h1_title": false,
   "title_cell": "Table of Contents",
   "title_sidebar": "Contents",
   "toc_cell": false,
   "toc_position": {},
   "toc_section_display": true,
   "toc_window_display": false
  }
 },
 "nbformat": 4,
 "nbformat_minor": 2
}
